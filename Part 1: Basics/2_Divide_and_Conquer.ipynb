{
 "cells": [
  {
   "attachments": {},
   "cell_type": "markdown",
   "metadata": {},
   "source": [
    "# Divide and Conquer Algorithms\n",
    "\n",
    "**Contents:**\n",
    "1. Divide and conquer philosophy\n",
    "2. Counting Inversions problem (Collaborative filtering problem) using brute force vs divide and conquer\n",
    "3. Strassens's Matrix Multiplication Algorithm\n",
    "4. Closest Pair Algorithm (for nlogn time)\n",
    "\n",
    "**What are the steps in divide and conquer?**\n",
    "1. Divide each problem into smaller subproblems\n",
    "2. Solve smaller subproblems recursively\n",
    "3. Merge the smaller subproblems together\n",
    "\n",
    "The most ingenuity is needed for 3. The merge step. The recursive calls can be done in the return statement for simple problems (like fibonnaci, factorials etc) but for \n",
    "larger problems we may need the 1. Division step to be done by calling itself in the middle and the 3. The merge step done in another helper function (like in mergesort shown in the \"1_introduction.ipynb\"). The merge step is sometimes of linear complexity which is why we see nlog(n) complexity so often, the log(n) from the division step and the linear complexity from the merge.\n",
    "\n",
    "We can use recursive trees to analyse time complexity of such recursive divide and conquer algorithms. For example in mergesort, as we keep halving the size of the array, we have log(n) levels to our recursive tree. Then we analyse the balance between number of recursive calls used in a subproblem (increasing our time complexity) vs the amount of work needed to be done by our subproblem (the more we divide our problem the more we decrease our time complexity). In mergesort, the function calls itself twice, so at each level we have 2^j subproblems underneath its level in the tree. The complexity of our merge function is linear, so it has complexity n, but as the size of this subproblem halves, so n/(2^j). Now we multiply the two 2^j * n/(2^j) = n. Times this by the depth of our tree (log(n)) to get nlogn."
   ]
  },
  {
   "attachments": {},
   "cell_type": "markdown",
   "metadata": {},
   "source": [
    "# Counting Inversions\n",
    "\n",
    "AKA collaborative filtering algorithm for determining similarity of preferences. For example you and a friend rank movies from 1-10. Then create an array where a[1] contains your friends ranking of your favourite movie, a[2] contains their ranking of your second favourite etc. If both your rankings are the same, the list created would be sorted. The more \"inversions\" needed to sort the list tells how disimilar your preferences are."
   ]
  },
  {
   "attachments": {},
   "cell_type": "markdown",
   "metadata": {},
   "source": [
    "**Brute force approach**"
   ]
  },
  {
   "cell_type": "code",
   "execution_count": 16,
   "metadata": {},
   "outputs": [],
   "source": [
    "# Given array input arr, how many inversions do you need?\n",
    "\n",
    "def inversion_brute(arr):\n",
    "    count_inv = 0\n",
    "    for i in range(1, len(arr)-1):\n",
    "        for j in range(i+1, len(arr)):\n",
    "            if arr[i] > arr[j]:\n",
    "                count_inv += 1\n",
    "\n",
    "    return count_inv"
   ]
  },
  {
   "cell_type": "code",
   "execution_count": 17,
   "metadata": {},
   "outputs": [
    {
     "name": "stdout",
     "output_type": "stream",
     "text": [
      "3\n"
     ]
    }
   ],
   "source": [
    "print(inversion_brute([1,3,5,2,4,6]))"
   ]
  },
  {
   "attachments": {},
   "cell_type": "markdown",
   "metadata": {},
   "source": [
    "**Divide and Conquer approach**"
   ]
  },
  {
   "cell_type": "code",
   "execution_count": 41,
   "metadata": {},
   "outputs": [],
   "source": [
    "def inversion_count(arr):\n",
    "\n",
    "    if len(arr) <= 1:\n",
    "        return (arr, 0)\n",
    "    \n",
    "    C, left_side_invt = inversion_count(arr[:len(arr)//2])\n",
    "    D, right_side_invt = inversion_count(arr[len(arr)//2:])\n",
    "\n",
    "    B, split_invt = inversion_merge(C, D, arr)\n",
    "\n",
    "    return (B, left_side_invt + right_side_invt + split_invt)\n",
    "\n",
    "def inversion_merge(arr_l, arr_r, arr):\n",
    "    i = j = k = 0\n",
    "    count_inv = 0\n",
    "\n",
    "    while i < len(arr_l) and j < len(arr_r):\n",
    "        if arr_l[i] < arr_r[j]:\n",
    "            arr[k] = arr_l[i]\n",
    "            i += 1\n",
    "        else:\n",
    "            arr[k] = arr_r[j]\n",
    "\n",
    "            # If item from arr_r copied into arr before item in arr_l,\n",
    "            # the the number of inverses needs to be incremented by the\n",
    "            # number of items remaining in arr_l at this point\n",
    "            count_inv += len(arr_l) - i\n",
    "\n",
    "\n",
    "            j += 1\n",
    "        k += 1\n",
    "\n",
    "    while i < len(arr_l):\n",
    "        arr[k] = arr_l[i]\n",
    "        i += 1\n",
    "        k += 1\n",
    "    \n",
    "    while j < len(arr_r):\n",
    "        arr[k] = arr_r[j]\n",
    "        j += 1\n",
    "        k += 1\n",
    "\n",
    "    return arr, count_inv\n",
    "\n"
   ]
  },
  {
   "cell_type": "code",
   "execution_count": 45,
   "metadata": {},
   "outputs": [
    {
     "name": "stdout",
     "output_type": "stream",
     "text": [
      "([1, 2, 3, 4, 5, 6], 3)\n",
      "([1, 2, 3, 4, 5, 6], 15)\n"
     ]
    }
   ],
   "source": [
    "print(inversion_count([1,3,5,2,4,6]))\n",
    "print(inversion_count([6,5,4,3,2,1]))"
   ]
  },
  {
   "attachments": {},
   "cell_type": "markdown",
   "metadata": {},
   "source": [
    "# Strassen's Matrix Multiplication Algorithm"
   ]
  },
  {
   "attachments": {},
   "cell_type": "markdown",
   "metadata": {},
   "source": [
    "Complexity of normal matrix addition/ subtraction methods are n^2 complexity. Matrix mutliplication using its definition is n^3 complexity.\n",
    "We can develop a recursive matrix multiplication method, but this will also be n^3 complexity.\n",
    "\n",
    "*However* by using the recursive method we open the doors to possible reduce the number of recursive calls (lowering the number of calls just by 1 is enough to have massive gains as this is compounded on every call to itself, leading to an order less complexity often times). Strassen's algorithm did just this, firstly implement the normal recursive method of matrix multiplication which works splitting each matrix into quarters (a,b,c,d and e,f,g,h) and then making 8 recursive matmul calls (ae, bg, af, bh, ce, dg, cf, dh) and then changing this in a clever way which reduces the number of recursive calls to 7 instead of 8.\n",
    "\n",
    "This improvement means a 12.5% performance increase in every call of the function, and when this is compounded, it leads to the overall algorithm having nlogn complexity"
   ]
  },
  {
   "cell_type": "code",
   "execution_count": 59,
   "metadata": {},
   "outputs": [],
   "source": [
    "# Firstly, we implement matmul by its iterative definition.\n",
    "\n",
    "def matmul(x,y):\n",
    "    x_col = len(x[0])\n",
    "    x_row = len(x)\n",
    "    y_col = len(y[0])\n",
    "    y_row = len(y)\n",
    "    if x_col is not y_row:\n",
    "        raise TypeError(\"These two matrices cannot be multiplied!\")\n",
    "    \n",
    "    z = [[0 for i in range(y_col)] for j in range(x_row)]\n",
    "\n",
    "    for i in range(x_row):\n",
    "        for j in range(y_col):\n",
    "            # z_ij = dot product of ith row of x and jth column of y\n",
    "            z[i][j] = dot(x,y,i,j)\n",
    "    \n",
    "    return z\n",
    "\n",
    "def dot(x,y,i,j):\n",
    "    total = 0\n",
    "    i = x[i]\n",
    "    j = [y[k][j] for k in range(len(y))]\n",
    "\n",
    "    return sum(p*q for p,q in zip(i,j))\n"
   ]
  },
  {
   "cell_type": "code",
   "execution_count": 60,
   "metadata": {},
   "outputs": [
    {
     "data": {
      "text/plain": [
       "[[22, 28], [49, 64], [76, 100]]"
      ]
     },
     "execution_count": 60,
     "metadata": {},
     "output_type": "execute_result"
    }
   ],
   "source": [
    "matmul([[1,2,3],[4,5,6],[7,8,9]],[[1,2],[3,4],[5,6]])"
   ]
  },
  {
   "cell_type": "code",
   "execution_count": null,
   "metadata": {},
   "outputs": [],
   "source": []
  }
 ],
 "metadata": {
  "kernelspec": {
   "display_name": "Python 3",
   "language": "python",
   "name": "python3"
  },
  "language_info": {
   "codemirror_mode": {
    "name": "ipython",
    "version": 3
   },
   "file_extension": ".py",
   "mimetype": "text/x-python",
   "name": "python",
   "nbconvert_exporter": "python",
   "pygments_lexer": "ipython3",
   "version": "3.11.3"
  },
  "orig_nbformat": 4
 },
 "nbformat": 4,
 "nbformat_minor": 2
}
