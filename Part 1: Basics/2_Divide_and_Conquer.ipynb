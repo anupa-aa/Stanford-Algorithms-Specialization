{
 "cells": [
  {
   "attachments": {},
   "cell_type": "markdown",
   "metadata": {},
   "source": [
    "# Divide and Conquer Algorithms\n",
    "\n",
    "**Contents:**\n",
    "1. Divide and conquer philosophy\n",
    "2. Counting Inversions problem (Collaborative filtering problem) using brute force vs divide and conquer\n",
    "3. Strassens's Matrix Multiplication Algorithm\n",
    "4. Closest Pair Algorithm (for nlogn time)\n",
    "\n",
    "**What are the steps in divide and conquer?**\n",
    "1. Divide each problem into smaller subproblems\n",
    "2. Solve smaller subproblems recursively\n",
    "3. Merge the smaller subproblems together\n",
    "\n",
    "The most ingenuity is needed for 3. The merge step. The recursive calls can be done in the return statement for simple problems (like fibonnaci, factorials etc) but for \n",
    "larger problems we may need the 1. Division step to be done by calling itself in the middle and the 3. The merge step done in another helper function (like in mergesort shown in the \"1_introduction.ipynb\"). The merge step is sometimes of linear complexity which is why we see nlog(n) complexity so often, the log(n) from the division step and the linear complexity from the merge.\n",
    "\n",
    "We can use recursive trees to analyse time complexity of such recursive divide and conquer algorithms. For example in mergesort, as we keep halving the size of the array, we have log(n) levels to our recursive tree. Then we analyse the balance between number of recursive calls used in a subproblem (increasing our time complexity) vs the amount of work needed to be done by our subproblem (the more we divide our problem the more we decrease our time complexity). In mergesort, the function calls itself twice, so at each level we have 2^j subproblems underneath its level in the tree. The complexity of our merge function is linear, so it has complexity n, but as the size of this subproblem halves, so n/(2^j). Now we multiply the two 2^j * n/(2^j) = n. Times this by the depth of our tree (log(n)) to get nlogn."
   ]
  },
  {
   "attachments": {},
   "cell_type": "markdown",
   "metadata": {},
   "source": [
    "# Counting Inversions\n",
    "\n",
    "AKA collaborative filtering algorithm for determining similarity of preferences. For example you and a friend rank movies from 1-10. Then create an array where a[1] contains your friends ranking of your favourite movie, a[2] contains their ranking of your second favourite etc. If both your rankings are the same, the list created would be sorted. The more \"inversions\" needed to sort the list tells how disimilar your preferences are."
   ]
  },
  {
   "attachments": {},
   "cell_type": "markdown",
   "metadata": {},
   "source": [
    "**Brute force approach**"
   ]
  },
  {
   "cell_type": "code",
   "execution_count": 16,
   "metadata": {},
   "outputs": [],
   "source": [
    "# Given array input arr, how many inversions do you need?\n",
    "\n",
    "def inversion_brute(arr):\n",
    "    count_inv = 0\n",
    "    for i in range(1, len(arr)-1):\n",
    "        for j in range(i+1, len(arr)):\n",
    "            if arr[i] > arr[j]:\n",
    "                count_inv += 1\n",
    "\n",
    "    return count_inv"
   ]
  },
  {
   "cell_type": "code",
   "execution_count": 17,
   "metadata": {},
   "outputs": [
    {
     "name": "stdout",
     "output_type": "stream",
     "text": [
      "3\n"
     ]
    }
   ],
   "source": [
    "print(inversion_brute([1,3,5,2,4,6]))"
   ]
  },
  {
   "attachments": {},
   "cell_type": "markdown",
   "metadata": {},
   "source": [
    "**Divide and Conquer approach**"
   ]
  },
  {
   "cell_type": "code",
   "execution_count": 41,
   "metadata": {},
   "outputs": [],
   "source": [
    "def inversion_count(arr):\n",
    "\n",
    "    if len(arr) <= 1:\n",
    "        return (arr, 0)\n",
    "    \n",
    "    C, left_side_invt = inversion_count(arr[:len(arr)//2])\n",
    "    D, right_side_invt = inversion_count(arr[len(arr)//2:])\n",
    "\n",
    "    B, split_invt = inversion_merge(C, D, arr)\n",
    "\n",
    "    return (B, left_side_invt + right_side_invt + split_invt)\n",
    "\n",
    "def inversion_merge(arr_l, arr_r, arr):\n",
    "    i = j = k = 0\n",
    "    count_inv = 0\n",
    "\n",
    "    while i < len(arr_l) and j < len(arr_r):\n",
    "        if arr_l[i] < arr_r[j]:\n",
    "            arr[k] = arr_l[i]\n",
    "            i += 1\n",
    "        else:\n",
    "            arr[k] = arr_r[j]\n",
    "\n",
    "            # If item from arr_r copied into arr before item in arr_l,\n",
    "            # the the number of inverses needs to be incremented by the\n",
    "            # number of items remaining in arr_l at this point\n",
    "            count_inv += len(arr_l) - i\n",
    "\n",
    "\n",
    "            j += 1\n",
    "        k += 1\n",
    "\n",
    "    while i < len(arr_l):\n",
    "        arr[k] = arr_l[i]\n",
    "        i += 1\n",
    "        k += 1\n",
    "    \n",
    "    while j < len(arr_r):\n",
    "        arr[k] = arr_r[j]\n",
    "        j += 1\n",
    "        k += 1\n",
    "\n",
    "    return arr, count_inv\n",
    "\n"
   ]
  },
  {
   "cell_type": "code",
   "execution_count": 45,
   "metadata": {},
   "outputs": [
    {
     "name": "stdout",
     "output_type": "stream",
     "text": [
      "([1, 2, 3, 4, 5, 6], 3)\n",
      "([1, 2, 3, 4, 5, 6], 15)\n"
     ]
    }
   ],
   "source": [
    "print(inversion_count([1,3,5,2,4,6]))\n",
    "print(inversion_count([6,5,4,3,2,1]))"
   ]
  },
  {
   "attachments": {},
   "cell_type": "markdown",
   "metadata": {},
   "source": [
    "# Strassen's Matrix Multiplication Algorithm"
   ]
  },
  {
   "attachments": {},
   "cell_type": "markdown",
   "metadata": {},
   "source": [
    "Complexity of normal matrix addition/ subtraction methods are n^2 complexity. Matrix mutliplication using its definition is n^3 complexity.\n",
    "We can develop a recursive matrix multiplication method, but this will also be n^3 complexity.\n",
    "\n",
    "*However* by using the recursive method we open the doors to possible reduce the number of recursive calls (lowering the number of calls just by 1 is enough to have massive gains as this is compounded on every call to itself, leading to an order less complexity often times). Strassen's algorithm did just this, firstly implement the normal recursive method of matrix multiplication which works splitting each matrix into quarters (a,b,c,d and e,f,g,h) and then making 8 recursive matmul calls (ae, bg, af, bh, ce, dg, cf, dh) and then changing this in a clever way which reduces the number of recursive calls to 7 instead of 8.\n",
    "\n",
    "This improvement means a 12.5% performance increase in every call of the function, and when this is compounded, it leads to the overall algorithm having nlogn complexity"
   ]
  },
  {
   "attachments": {},
   "cell_type": "markdown",
   "metadata": {},
   "source": [
    "# Iterative Matrix Multiplication Algorithm"
   ]
  },
  {
   "cell_type": "code",
   "execution_count": 59,
   "metadata": {},
   "outputs": [],
   "source": [
    "# Firstly, we implement matmul by its iterative definition.\n",
    "\n",
    "def matmul(x,y):\n",
    "    x_col = len(x[0])\n",
    "    x_row = len(x)\n",
    "    y_col = len(y[0])\n",
    "    y_row = len(y)\n",
    "    if x_col is not y_row:\n",
    "        raise TypeError(\"These two matrices cannot be multiplied!\")\n",
    "    \n",
    "    z = [[0 for i in range(y_col)] for j in range(x_row)]\n",
    "\n",
    "    for i in range(x_row):\n",
    "        for j in range(y_col):\n",
    "            # z_ij = dot product of ith row of x and jth column of y\n",
    "            z[i][j] = dot(x,y,i,j)\n",
    "    \n",
    "    return z\n",
    "\n",
    "def dot(x,y,i,j):\n",
    "    total = 0\n",
    "    i = x[i]\n",
    "    j = [y[k][j] for k in range(len(y))]\n",
    "\n",
    "    return sum(p*q for p,q in zip(i,j))\n"
   ]
  },
  {
   "cell_type": "code",
   "execution_count": 60,
   "metadata": {},
   "outputs": [
    {
     "data": {
      "text/plain": [
       "[[22, 28], [49, 64], [76, 100]]"
      ]
     },
     "execution_count": 60,
     "metadata": {},
     "output_type": "execute_result"
    }
   ],
   "source": [
    "matmul([[1,2,3],[4,5,6],[7,8,9]],[[1,2],[3,4],[5,6]])"
   ]
  },
  {
   "attachments": {},
   "cell_type": "markdown",
   "metadata": {},
   "source": [
    "# Recursive Matrix Multiplication Algorithm"
   ]
  },
  {
   "cell_type": "code",
   "execution_count": 115,
   "metadata": {},
   "outputs": [],
   "source": [
    "import numpy as np\n",
    "def rmatmul(x,y):\n",
    "    # Lets assume we are doing 2 square matrices of equal dimensions where num_rows = num_columns = power of 2\n",
    "\n",
    "    if len(x) <= 1:\n",
    "        return x[0][0]*y[0][0]\n",
    "\n",
    "    # if x was a numpy array we could simply do x[:len(x)//2,:len(x[0])//2]\n",
    "    a = [i[:len(x[0])//2] for i in x[:len(x)//2]]\n",
    "    c = [i[:len(x[0])//2] for i in x[len(x)//2:]]\n",
    "    b = [i[len(x[0])//2:] for i in x[:len(x)//2]]\n",
    "    d = [i[len(x[0])//2:] for i in x[len(x)//2:]]\n",
    "\n",
    "    e = [i[:len(y[0])//2] for i in y[:len(y)//2]]\n",
    "    g = [i[:len(y[0])//2] for i in y[len(y)//2:]]\n",
    "    f = [i[len(y[0])//2:] for i in y[:len(y)//2]]\n",
    "    h = [i[len(y[0])//2:] for i in y[len(y)//2:]]\n",
    "\n",
    "    # 8 Recursive calls\n",
    "    ae = rmatmul(a,e)\n",
    "    bg = rmatmul(b,g)\n",
    "    af = rmatmul(a,f)\n",
    "    bh = rmatmul(b,h)\n",
    "    ce = rmatmul(c,e)\n",
    "    dg = rmatmul(d,g)\n",
    "    cf = rmatmul(c,f)\n",
    "    dh = rmatmul(d,h)\n",
    "\n",
    "    return [[mat_add(ae,bg), mat_add(af,bh)],[mat_add(ce,dg), mat_add(cf,dh)]]\n",
    "\n",
    "def mat_add(x,y):\n",
    "    if type(x) == int:\n",
    "        return x+y\n",
    "    \n",
    "    z = [[0 for i in range(len(x[0]))] for j in range(len(x))]\n",
    "\n",
    "    for i in range(len(x)):\n",
    "        for j in range(len(x[0])):\n",
    "            z[i][j] = x[i][j] + y[i][j]\n",
    "\n",
    "\n",
    "    return z\n",
    "\n"
   ]
  },
  {
   "cell_type": "code",
   "execution_count": 108,
   "metadata": {},
   "outputs": [
    {
     "data": {
      "text/plain": [
       "[[335, 350, 365, 380],\n",
       " [488, 512, 536, 560],\n",
       " [641, 674, 707, 740],\n",
       " [794, 836, 878, 920]]"
      ]
     },
     "execution_count": 108,
     "metadata": {},
     "output_type": "execute_result"
    }
   ],
   "source": [
    "matmul([[1,2,3,9],[4,5,6,9],[7,8,9,9],[10,11,12,9]],[[13,14,15,16],[17,18,19,20],[21,22,23,24],[25,26,27,28]])"
   ]
  },
  {
   "cell_type": "code",
   "execution_count": 117,
   "metadata": {},
   "outputs": [
    {
     "data": {
      "text/plain": [
       "[[[[335, 350], [488, 512]], [[365, 380], [536, 560]]],\n",
       " [[[641, 674], [794, 836]], [[707, 740], [878, 920]]]]"
      ]
     },
     "execution_count": 117,
     "metadata": {},
     "output_type": "execute_result"
    }
   ],
   "source": [
    "rmatmul([[1,2,3,9],[4,5,6,9],[7,8,9,9],[10,11,12,9]],[[13,14,15,16],[17,18,19,20],[21,22,23,24],[25,26,27,28]])\n",
    "\n",
    "# Please note that this still displays the results as [[a],[b], [c], [d]] where a,b,c and d are all 2x2 matrices, so although the \n",
    "# formatting looks different the result is the same"
   ]
  },
  {
   "attachments": {},
   "cell_type": "markdown",
   "metadata": {},
   "source": [
    "# Strassen Matrix Multiplication Algorithm"
   ]
  },
  {
   "attachments": {},
   "cell_type": "markdown",
   "metadata": {},
   "source": [
    "Strassen found a way to save a recursive call\n",
    "\n",
    "P1 = A · (F - H)\n",
    "\n",
    "P2 = (A + B) · H\n",
    "\n",
    "P3 = (C + D) · E\n",
    "\n",
    "P4 = D · (G - E)\n",
    "\n",
    "P5 = (A + D) · (E + H)\n",
    "\n",
    "P6 = (B - D) · (G + H)\n",
    "\n",
    "P7 = (A - C) · (E + F)\n",
    "\n",
    "x*y = [[(p5 + p4 - p2 + p6), (p1 + p2)],[(p3 + p4), (p1 + p5 - p3 -p7)]]\n"
   ]
  },
  {
   "cell_type": "code",
   "execution_count": 124,
   "metadata": {},
   "outputs": [],
   "source": [
    "import numpy as np\n",
    "\n",
    "\n",
    "def strassmatmul(x, y):\n",
    "    # Lets assume we are doing 2 square matrices of equal dimensions where num_rows = num_columns = power of 2\n",
    "\n",
    "    if len(x) <= 1:\n",
    "        return x[0][0]*y[0][0]\n",
    "\n",
    "    # if x was a numpy array we could simply do x[:len(x)//2,:len(x[0])//2]\n",
    "    a = [i[:len(x[0])//2] for i in x[:len(x)//2]]\n",
    "    c = [i[:len(x[0])//2] for i in x[len(x)//2:]]\n",
    "    b = [i[len(x[0])//2:] for i in x[:len(x)//2]]\n",
    "    d = [i[len(x[0])//2:] for i in x[len(x)//2:]]\n",
    "\n",
    "    e = [i[:len(y[0])//2] for i in y[:len(y)//2]]\n",
    "    g = [i[:len(y[0])//2] for i in y[len(y)//2:]]\n",
    "    f = [i[len(y[0])//2:] for i in y[:len(y)//2]]\n",
    "    h = [i[len(y[0])//2:] for i in y[len(y)//2:]]\n",
    "\n",
    "    # 8 Recursive calls\n",
    "\n",
    "    p1 = strassmatmul(a, matt_op(f,h, sub))\n",
    "    p2 = strassmatmul(matt_op(a,b, add), h)\n",
    "    p3 = strassmatmul(matt_op(c,d, add),e)\n",
    "    p4 = strassmatmul(d, matt_op(g,e,sub))\n",
    "    p5 = strassmatmul(matt_op(a,d, add),matt_op(e,h,add))\n",
    "    p6 = strassmatmul(matt_op(b,d, sub), matt_op(g,h,add))\n",
    "    p7 = strassmatmul(matt_op(a,c,sub),matt_op(e,f,add))\n",
    "\n",
    "    return [[matt_op(matt_op(matt_op(p5, p4, add), p2, sub), p6, add), matt_op(p1, p2, add)], [matt_op(p3, p4, add), matt_op(matt_op(matt_op(p1, p5, add), p3, sub), p7, sub)]]\n",
    "\n",
    "\n",
    "def matt_op(x, y, func):\n",
    "    if type(x) == int:\n",
    "        return func(x,y)\n",
    "\n",
    "    z = [[0 for i in range(len(x[0]))] for j in range(len(x))]\n",
    "\n",
    "    for i in range(len(x)):\n",
    "        for j in range(len(x[0])):\n",
    "            z[i][j] = func(x[i][j], y[i][j])\n",
    "\n",
    "    return z\n",
    "\n",
    "def add(x,y):\n",
    "    return x+y\n",
    "\n",
    "def sub(x,y):\n",
    "    return x-y\n"
   ]
  },
  {
   "cell_type": "code",
   "execution_count": 125,
   "metadata": {},
   "outputs": [
    {
     "data": {
      "text/plain": [
       "[[[[335, 350], [488, 512]], [[365, 380], [536, 560]]],\n",
       " [[[641, 674], [794, 836]], [[707, 740], [878, 920]]]]"
      ]
     },
     "execution_count": 125,
     "metadata": {},
     "output_type": "execute_result"
    }
   ],
   "source": [
    "strassmatmul([[1, 2, 3, 9], [4, 5, 6, 9], [7, 8, 9, 9], [10, 11, 12, 9]], [\n",
    "        [13, 14, 15, 16], [17, 18, 19, 20], [21, 22, 23, 24], [25, 26, 27, 28]])\n",
    "\n",
    "# Please note that this still displays the results as [[a],[b], [c], [d]] where a,b,c and d are all 2x2 matrices, so although the\n",
    "# formatting looks different the result is the same\n"
   ]
  },
  {
   "attachments": {},
   "cell_type": "markdown",
   "metadata": {},
   "source": [
    "# The Closest Pair Problem"
   ]
  },
  {
   "cell_type": "code",
   "execution_count": null,
   "metadata": {},
   "outputs": [],
   "source": []
  }
 ],
 "metadata": {
  "kernelspec": {
   "display_name": "Python 3",
   "language": "python",
   "name": "python3"
  },
  "language_info": {
   "codemirror_mode": {
    "name": "ipython",
    "version": 3
   },
   "file_extension": ".py",
   "mimetype": "text/x-python",
   "name": "python",
   "nbconvert_exporter": "python",
   "pygments_lexer": "ipython3",
   "version": "3.11.3"
  },
  "orig_nbformat": 4
 },
 "nbformat": 4,
 "nbformat_minor": 2
}
