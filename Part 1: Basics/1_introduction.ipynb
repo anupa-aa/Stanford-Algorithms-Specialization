{
 "cells": [
  {
   "attachments": {},
   "cell_type": "markdown",
   "metadata": {},
   "source": [
    "# Intro\n",
    "\n",
    "1. Karatsuba multiplication (an example)\n",
    "2. Mergesort Implmentation\n",
    "3. Mergesort Analysis"
   ]
  },
  {
   "attachments": {},
   "cell_type": "markdown",
   "metadata": {},
   "source": [
    "# Karatsuba Multiplication"
   ]
  },
  {
   "cell_type": "code",
   "execution_count": 2,
   "metadata": {},
   "outputs": [],
   "source": [
    "# Karatsuba Multiplication\n",
    "# An algorithm that multiplies 2 long integers together \"efficiently\" compared to the long multiplication algorithm we were taught in primary school.\n",
    "# Works by splitting each number into 2 halves and then recursively completing a set of operations using these 4 parts of numbers\n",
    "\n",
    "# ASSUMES INPUT IS 2 N DIGIT POSITIVE INTEGERS WHERE N IS A POWER OF 2\n",
    "\n",
    "def karatsuba(num1, num2):\n",
    "\n",
    "    n = max(len(str(num1)), len(str(num2)))\n",
    "\n",
    "    # Our base case if one of our two numbers is only one digit long\n",
    "    if len(str(num1)) == 1 or len(str(num2)) == 1:\n",
    "        return num1*num2\n",
    "    \n",
    "    # num1 and num2 each split into halves\n",
    "    split = n//2\n",
    "    a = num1 // 10**(split)\n",
    "    b = num1 % 10**(split)\n",
    "    c = num2 // 10**(split)\n",
    "    d = num2 % 10**(split)\n",
    "\n",
    "\n",
    "    # Recursively work out ac, bd and ad + bc\n",
    "    ac = karatsuba(a,c)\n",
    "    bd = karatsuba(b,d)\n",
    "    ad_add_bc = karatsuba(a+b, c+d) - ac - bd # This trick saves us using an extra recursive call, (a+b)*(c+d) - ac - bd = ad + bc\n",
    "\n",
    "    return (ac * 10**(2*split)) + (ad_add_bc * 10**(split)) + (bd)\n",
    "    \n"
   ]
  },
  {
   "cell_type": "code",
   "execution_count": 3,
   "metadata": {},
   "outputs": [
    {
     "name": "stdout",
     "output_type": "stream",
     "text": [
      "[True, True, True]\n",
      "8539734222673567065463550869546574495034888535765114961879601127067743044893204848617875072216249073013374895871952806582723184\n"
     ]
    }
   ],
   "source": [
    "# Testing the above algorithm\n",
    "\n",
    "tests = [(9999, 3712), (12241224, 12246844),\n",
    "         (3713371337133713, 3713371337139371)]\n",
    "\n",
    "results = [karatsuba(a,b) == a*b for a,b in tests]\n",
    "print(results)\n",
    "\n",
    "print(karatsuba(3141592653589793238462643383279502884197169399375105820974944592,\n",
    "      2718281828459045235360287471352662497757247093699959574966967627))\n"
   ]
  },
  {
   "attachments": {},
   "cell_type": "markdown",
   "metadata": {},
   "source": [
    "# Mergesort\n"
   ]
  },
  {
   "cell_type": "code",
   "execution_count": 4,
   "metadata": {},
   "outputs": [],
   "source": [
    "def mergesort(A):\n",
    "\n",
    "    n = len(A)\n",
    "    c,d = A[:n//2], A[n//2:]\n",
    "    \n",
    "\n",
    "    if len(A) == 0 or len(A) == 1:\n",
    "        return A\n",
    "\n",
    "    # Splits input array into halves recursively until each element on its own\n",
    "    mergesort(c)\n",
    "    mergesort(d)\n",
    "       \n",
    "    # Merge process where sorting happens\n",
    "    merge(c, d, A)\n",
    "\n",
    "    return A\n",
    "\n",
    "def merge(c, d, A):\n",
    "\n",
    "    # Set our counters for indicies to iterate through A (k), c (i) and d (j)\n",
    "    i,j,k = 0,0,0\n",
    "\n",
    "    # This is the main sorting step, makes comparisons between ith element in c and jth\n",
    "    # element in d and picks the smallest one and puts in A\n",
    "    while i < len(c) and j < len(d):\n",
    "        if c[i] < d[j]:\n",
    "            A[k] = c[i]\n",
    "            i += 1\n",
    "        else:\n",
    "            A[k] = d[j]\n",
    "            j += 1\n",
    "\n",
    "        k += 1\n",
    "\n",
    "    # These next two steps handle when one of our arrays is empty\n",
    "    # We copy the remaining elements in the non empty array into A\n",
    "    while i < len(c):\n",
    "        A[k] = c[i]\n",
    "        i += 1\n",
    "        k += 1\n",
    "\n",
    "    while j < len(d):\n",
    "        A[k] = d[j]\n",
    "        j += 1\n",
    "        k += 1\n"
   ]
  },
  {
   "cell_type": "code",
   "execution_count": 5,
   "metadata": {},
   "outputs": [
    {
     "data": {
      "text/plain": [
       "[1, 3, 3, 4, 4, 6, 7, 21, 43, 68]"
      ]
     },
     "execution_count": 5,
     "metadata": {},
     "output_type": "execute_result"
    }
   ],
   "source": [
    "mergesort([7,6,3,1,4,68,43,21,3,4])"
   ]
  },
  {
   "attachments": {},
   "cell_type": "markdown",
   "metadata": {},
   "source": [
    "# Exercises\n",
    "\n",
    "Q1. "
   ]
  }
 ],
 "metadata": {
  "kernelspec": {
   "display_name": "Python 3",
   "language": "python",
   "name": "python3"
  },
  "language_info": {
   "codemirror_mode": {
    "name": "ipython",
    "version": 3
   },
   "file_extension": ".py",
   "mimetype": "text/x-python",
   "name": "python",
   "nbconvert_exporter": "python",
   "pygments_lexer": "ipython3",
   "version": "3.11.3"
  },
  "orig_nbformat": 4
 },
 "nbformat": 4,
 "nbformat_minor": 2
}
