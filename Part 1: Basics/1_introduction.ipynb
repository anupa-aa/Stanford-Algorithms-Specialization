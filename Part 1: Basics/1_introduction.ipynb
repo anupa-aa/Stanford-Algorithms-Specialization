{
 "cells": [
  {
   "attachments": {},
   "cell_type": "markdown",
   "metadata": {},
   "source": [
    "# Intro\n",
    "\n",
    "1. Karatsuba multiplication (an example)\n",
    "2. Mergesort Implmentation\n",
    "3. Mergesort Analysis"
   ]
  },
  {
   "cell_type": "code",
   "execution_count": 170,
   "metadata": {},
   "outputs": [],
   "source": [
    "# Karatsuba Multiplication\n",
    "# An algorithm that multiplies 2 long integers together \"efficiently\" compared to the long multiplication algorithm we were taught in primary school.\n",
    "# Works by splitting each number into 2 halves and then recursively completing a set of operations using these 4 parts of numbers\n",
    "\n",
    "# ASSUMES INPUT IS 2 N DIGIT POSITIVE INTEGERS WHERE N IS A POWER OF 2\n",
    "\n",
    "def karatsuba(num1, num2):\n",
    "\n",
    "    n = max(len(str(num1)), len(str(num2)))\n",
    "\n",
    "    # Our base case if one of our two numbers is only one digit long\n",
    "    if len(str(num1)) == 1 or len(str(num2)) == 1:\n",
    "        return num1*num2\n",
    "    \n",
    "    # num1 and num2 each split into halves\n",
    "    split = n//2\n",
    "    a = num1 // 10**(split)\n",
    "    b = num1 % 10**(split)\n",
    "    c = num2 // 10**(split)\n",
    "    d = num2 % 10**(split)\n",
    "\n",
    "\n",
    "    # Recursively work out ac, bd and ad + bc\n",
    "    ac = karatsuba(a,c)\n",
    "    bd = karatsuba(b,d)\n",
    "    ad_add_bc = karatsuba(a+b, c+d) - ac - bd # This trick saves us using an extra recursive call, (a+b)*(c+d) - ac - bd = ad + bc\n",
    "\n",
    "    return (ac * 10**(2*split)) + (ad_add_bc * 10**(split)) + (bd)\n",
    "    \n"
   ]
  },
  {
   "cell_type": "code",
   "execution_count": 171,
   "metadata": {},
   "outputs": [
    {
     "name": "stdout",
     "output_type": "stream",
     "text": [
      "[True, True, True]\n"
     ]
    }
   ],
   "source": [
    "tests = [(9999, 3712), (12241224, 12246844),\n",
    "         (3713371337133713, 3713371337139371)]\n",
    "\n",
    "results = [karatsuba(a,b) == a*b for a,b in tests]\n",
    "print(results)\n"
   ]
  },
  {
   "cell_type": "code",
   "execution_count": null,
   "metadata": {},
   "outputs": [],
   "source": []
  }
 ],
 "metadata": {
  "kernelspec": {
   "display_name": "Python 3",
   "language": "python",
   "name": "python3"
  },
  "language_info": {
   "codemirror_mode": {
    "name": "ipython",
    "version": 3
   },
   "file_extension": ".py",
   "mimetype": "text/x-python",
   "name": "python",
   "nbconvert_exporter": "python",
   "pygments_lexer": "ipython3",
   "version": "3.11.3"
  },
  "orig_nbformat": 4
 },
 "nbformat": 4,
 "nbformat_minor": 2
}
